{
  "nbformat": 4,
  "nbformat_minor": 0,
  "metadata": {
    "colab": {
      "provenance": []
    },
    "kernelspec": {
      "name": "python3",
      "display_name": "Python 3"
    },
    "language_info": {
      "name": "python"
    },
    "accelerator": "GPU",
    "gpuClass": "standard"
  },
  "cells": [
    {
      "cell_type": "code",
      "source": [
        "import numpy as np\n",
        "import cv2\n",
        "import os\n",
        "from keras.optimizers import Adam\n",
        "from keras.models import Model\n",
        "from keras.layers import Input\n",
        "from keras.losses import MeanSquaredError\n",
        "from keras.applications.vgg19 import VGG19\n",
        "from keras.models import Sequential\n",
        "from keras.layers import Conv2D, Conv2DTranspose, BatchNormalization, Activation, Dense, Add, Reshape, PReLU, UpSampling2D, Lambda, LeakyReLU, Flatten\n",
        "from keras.preprocessing.image import ImageDataGenerator"
      ],
      "metadata": {
        "id": "GBlAhOTrlerP"
      },
      "execution_count": null,
      "outputs": []
    },
    {
      "cell_type": "code",
      "source": [
        "from google.colab import drive\n",
        "drive.mount('/content/drive')"
      ],
      "metadata": {
        "colab": {
          "base_uri": "https://localhost:8080/"
        },
        "id": "UVZaLCDJ-KAT",
        "outputId": "c8c68de4-ab2c-4352-8194-5dfd012f02b0"
      },
      "execution_count": null,
      "outputs": [
        {
          "output_type": "stream",
          "name": "stdout",
          "text": [
            "Drive already mounted at /content/drive; to attempt to forcibly remount, call drive.mount(\"/content/drive\", force_remount=True).\n"
          ]
        }
      ]
    },
    {
      "cell_type": "code",
      "source": [
        "import tensorflow as tf\n",
        "from tensorflow import keras\n",
        "from keras.callbacks import TensorBoard\n",
        "import glob\n",
        "import random\n",
        "from numpy import asarray\n",
        "from itertools import repeat\n",
        "import imageio\n",
        "from imageio import imread\n",
        "from PIL import Image\n",
        "from skimage.transform import resize as imresize\n",
        "import matplotlib.pyplot as plt\n",
        "import warnings\n",
        "warnings.filterwarnings(\"ignore\")\n",
        "\n",
        "print(\"Tensorflow version \" + tf.__version__)\n",
        "print(\"Keras version \" + tf.keras.__version__)"
      ],
      "metadata": {
        "colab": {
          "base_uri": "https://localhost:8080/"
        },
        "id": "cDUrpeyk-7FN",
        "outputId": "bd68cc98-ddbb-451e-be73-03f51ac7f653"
      },
      "execution_count": null,
      "outputs": [
        {
          "output_type": "stream",
          "name": "stdout",
          "text": [
            "Tensorflow version 2.11.0\n",
            "Keras version 2.11.0\n"
          ]
        }
      ]
    },
    {
      "cell_type": "markdown",
      "source": [
        "## Resizing the images to 128x128 and 32x32 to feed into the SRGAN"
      ],
      "metadata": {
        "id": "0jw1lOezi99W"
      }
    },
    {
      "cell_type": "code",
      "source": [
        "from PIL import Image\n",
        "import os\n",
        "\n",
        "input_folder = '/content/drive/MyDrive/4090_AI_Biomedical/OCT_dataset/datasets/Data_Small/train/DME'\n",
        "output_folder = '/content/drive/MyDrive/4090_AI_Biomedical/OCT_dataset/datasets/Data_Small/train_us/DME'\n",
        "\n",
        "for filename in os.listdir(input_folder):\n",
        "    input_path = os.path.join(input_folder, filename)\n",
        "    output_path = os.path.join(output_folder, filename)\n",
        "    with Image.open(input_path) as img:\n",
        "        img = img.resize((128, 128), resample=Image.LANCZOS)\n",
        "        img.save(output_path)\n",
        "\n",
        "from PIL import Image\n",
        "import os\n",
        "\n",
        "input_folder = '/content/drive/MyDrive/4090_AI_Biomedical/OCT_dataset/datasets/Data_Small/train/DRUSEN'\n",
        "output_folder = '/content/drive/MyDrive/4090_AI_Biomedical/OCT_dataset/datasets/Data_Small/train_us/DRUSEN'\n",
        "\n",
        "for filename in os.listdir(input_folder):\n",
        "    input_path = os.path.join(input_folder, filename)\n",
        "    output_path = os.path.join(output_folder, filename)\n",
        "    with Image.open(input_path) as img:\n",
        "        img = img.resize((128, 128), resample=Image.LANCZOS)\n",
        "        img.save(output_path)"
      ],
      "metadata": {
        "id": "y8163Dg3zBzF"
      },
      "execution_count": 16,
      "outputs": []
    },
    {
      "cell_type": "code",
      "source": [
        "from PIL import Image\n",
        "import os\n",
        "\n",
        "input_folder = '/content/drive/MyDrive/4090_AI_Biomedical/OCT_dataset/datasets/Data_Small/test/DME'\n",
        "output_folder = '/content/drive/MyDrive/4090_AI_Biomedical/OCT_dataset/datasets/Data_Small/test_us/DME'\n",
        "\n",
        "for filename in os.listdir(input_folder):\n",
        "    input_path = os.path.join(input_folder, filename)\n",
        "    output_path = os.path.join(output_folder, filename)\n",
        "    with Image.open(input_path) as img:\n",
        "        img = img.resize((128, 128), resample=Image.LANCZOS)\n",
        "        img.save(output_path)\n",
        "\n",
        "from PIL import Image\n",
        "import os\n",
        "\n",
        "input_folder = '/content/drive/MyDrive/4090_AI_Biomedical/OCT_dataset/datasets/Data_Small/test/DRUSEN'\n",
        "output_folder = '/content/drive/MyDrive/4090_AI_Biomedical/OCT_dataset/datasets/Data_Small/test_us/DRUSEN'\n",
        "\n",
        "for filename in os.listdir(input_folder):\n",
        "    input_path = os.path.join(input_folder, filename)\n",
        "    output_path = os.path.join(output_folder, filename)\n",
        "    with Image.open(input_path) as img:\n",
        "        img = img.resize((128, 128), resample=Image.LANCZOS)\n",
        "        img.save(output_path)"
      ],
      "metadata": {
        "id": "Xrt4FJUbiz39"
      },
      "execution_count": 17,
      "outputs": []
    },
    {
      "cell_type": "code",
      "source": [
        "from PIL import Image\n",
        "import os\n",
        "\n",
        "input_folder = '/content/drive/MyDrive/4090_AI_Biomedical/OCT_dataset/datasets/Data_Small/train/DME'\n",
        "output_folder = '/content/drive/MyDrive/4090_AI_Biomedical/OCT_dataset/datasets/Data_Small/train_ds/DME'\n",
        "\n",
        "for filename in os.listdir(input_folder):\n",
        "    input_path = os.path.join(input_folder, filename)\n",
        "    output_path = os.path.join(output_folder, filename)\n",
        "    with Image.open(input_path) as img:\n",
        "        img = img.resize((32, 32), resample=Image.LANCZOS)\n",
        "        img.save(output_path)\n",
        "\n",
        "from PIL import Image\n",
        "import os\n",
        "\n",
        "input_folder = '/content/drive/MyDrive/4090_AI_Biomedical/OCT_dataset/datasets/Data_Small/train/DRUSEN'\n",
        "output_folder = '/content/drive/MyDrive/4090_AI_Biomedical/OCT_dataset/datasets/Data_Small/train_ds/DRUSEN'\n",
        "\n",
        "for filename in os.listdir(input_folder):\n",
        "    input_path = os.path.join(input_folder, filename)\n",
        "    output_path = os.path.join(output_folder, filename)\n",
        "    with Image.open(input_path) as img:\n",
        "        img = img.resize((32, 32), resample=Image.LANCZOS)\n",
        "        img.save(output_path)"
      ],
      "metadata": {
        "id": "Qr5i8qc5i1M-"
      },
      "execution_count": null,
      "outputs": []
    },
    {
      "cell_type": "code",
      "source": [
        "from PIL import Image\n",
        "import os\n",
        "\n",
        "input_folder = '/content/drive/MyDrive/4090_AI_Biomedical/OCT_dataset/datasets/Data_Small/test/DME'\n",
        "output_folder = '/content/drive/MyDrive/4090_AI_Biomedical/OCT_dataset/datasets/Data_Small/test_ds/DME'\n",
        "\n",
        "for filename in os.listdir(input_folder):\n",
        "    input_path = os.path.join(input_folder, filename)\n",
        "    output_path = os.path.join(output_folder, filename)\n",
        "    with Image.open(input_path) as img:\n",
        "        img = img.resize((32, 32), resample=Image.LANCZOS)\n",
        "        img.save(output_path)\n",
        "\n",
        "from PIL import Image\n",
        "import os\n",
        "\n",
        "input_folder = '/content/drive/MyDrive/4090_AI_Biomedical/OCT_dataset/datasets/Data_Small/test/DRUSEN'\n",
        "output_folder = '/content/drive/MyDrive/4090_AI_Biomedical/OCT_dataset/datasets/Data_Small/test_ds/DRUSEN'\n",
        "\n",
        "for filename in os.listdir(input_folder):\n",
        "    input_path = os.path.join(input_folder, filename)\n",
        "    output_path = os.path.join(output_folder, filename)\n",
        "    with Image.open(input_path) as img:\n",
        "        img = img.resize((32, 32), resample=Image.LANCZOS)\n",
        "        img.save(output_path)"
      ],
      "metadata": {
        "id": "RXTfcgYKi796"
      },
      "execution_count": null,
      "outputs": []
    },
    {
      "cell_type": "code",
      "source": [
        "from keras.layers import Input, Dense, BatchNormalization, LeakyReLU, Conv2D, UpSampling2D, Add\n",
        "from keras.models import Model\n",
        "from keras.optimizers import Adam\n",
        "from keras.applications import VGG19\n",
        "from keras.applications.vgg19 import preprocess_input\n",
        "import keras.backend as K"
      ],
      "metadata": {
        "id": "D0Jd80yNHdGp"
      },
      "execution_count": null,
      "outputs": []
    },
    {
      "cell_type": "code",
      "source": [
        "def build_generator(input_shape):\n",
        "    input_low_res = Input(shape=input_shape)\n",
        "    x = Lambda(lambda image: tf.image.resize(image, size=(8, 8)))(input_low_res)\n",
        "    x = Conv2D(64, kernel_size=9, strides=1, padding='same')(x)\n",
        "    x = LeakyReLU(alpha=0.2)(x)\n",
        "\n",
        "    # Residual blocks\n",
        "    for i in range(16):\n",
        "        residual = x\n",
        "        x = Conv2D(64, kernel_size=3, strides=1, padding='same')(x)\n",
        "        x = BatchNormalization()(x)\n",
        "        x = LeakyReLU(alpha=0.2)(x)\n",
        "        x = Conv2D(64, kernel_size=3, strides=1, padding='same')(x)\n",
        "        x = BatchNormalization()(x)\n",
        "        x = Add()([x, residual])\n",
        "\n",
        "    x = Conv2D(64, kernel_size=3, strides=1, padding='same')(x)\n",
        "    x = BatchNormalization()(x)\n",
        "    x = UpSampling2D(size=2)(x)\n",
        "    x = LeakyReLU(alpha=0.2)(x)\n",
        "\n",
        "    x = Conv2D(256, kernel_size=3, strides=1, padding='same')(x)\n",
        "    x = UpSampling2D(size=2)(x)\n",
        "    x = LeakyReLU(alpha=0.2)(x)\n",
        "\n",
        "    # Output high resolution image\n",
        "    output_high_res = Conv2D(3, kernel_size=9, strides=1, padding='same', activation='tanh')(x)\n",
        "\n",
        "    return Model(input_low_res, output_high_res)\n"
      ],
      "metadata": {
        "id": "HMNqi-Gq7mkq"
      },
      "execution_count": null,
      "outputs": []
    },
    {
      "cell_type": "code",
      "source": [
        "def build_discriminator(input_shape):\n",
        "    input_high_res = Input(shape=input_shape)\n",
        "\n",
        "    # VGG19 model as a feature extractor\n",
        "    vgg19 = VGG19(weights='imagenet')\n",
        "    for layer in vgg19.layers:\n",
        "        layer.trainable = False\n",
        "    vgg19 = Model(inputs=vgg19.input, outputs=vgg19.get_layer('block5_conv4').output)\n",
        "\n",
        "    # Discriminator model\n",
        "    x = Conv2D(64, kernel_size=3, strides=1, padding='same')(input_high_res)\n",
        "    x = LeakyReLU(alpha=0.2)(x)\n",
        "\n",
        "    x = Conv2D(64, kernel_size=3, strides=2, padding='same')(x)\n",
        "    x = BatchNormalization()(x)\n",
        "    x = LeakyReLU(alpha=0.2)(x)\n",
        "\n",
        "    x = Conv2D(128, kernel_size=3, strides=1, padding='same')(x)\n",
        "    x = BatchNormalization()(x)\n",
        "    x = LeakyReLU(alpha=0.2)(x)\n",
        "\n",
        "    x = Conv2D(128, kernel_size=3, strides=2, padding='same')(x)\n",
        "    x = BatchNormalization()(x)\n",
        "    x = LeakyReLU(alpha=0.2)(x)\n",
        "\n",
        "    x = Conv2D(256, kernel_size=3, strides=1, padding='same')(x)\n",
        "    x = BatchNormalization()(x)\n",
        "    x = LeakyReLU(alpha=0.2)(x)\n",
        "\n",
        "    x = Conv2D(256, kernel_size=3, strides=2, padding='same')(x)\n",
        "    x = BatchNormalization()(x)\n",
        "    x = LeakyReLU(alpha=0.2)(x)\n",
        "\n",
        "    x = Conv2D(512, kernel_size=3, strides=1, padding='same')(x)\n",
        "    x = BatchNormalization()(x)\n",
        "    x = LeakyReLU(alpha=0.2)(x)\n",
        "\n",
        "    x = Conv2D(512, kernel_size=3, strides=2, padding='same')(x)\n",
        "    x = BatchNormalization()(x)\n",
        "    x = LeakyReLU(alpha=0.2)(x)\n",
        "\n",
        "    x = Dense(1024)(x)\n",
        "    x = LeakyReLU(alpha=0.2)(x)\n",
        "    x = Dense(1, activation='sigmoid')(x)\n",
        "\n",
        "    # Compile model\n",
        "    model = Model(input_high_res, x)\n",
        "    model.compile(loss='binary_crossentropy', optimizer=Adam(lr=0.0002, beta_1=0.5), metrics=['accuracy'])\n",
        "\n",
        "    return model"
      ],
      "metadata": {
        "id": "H3IYjb3uHdER"
      },
      "execution_count": null,
      "outputs": []
    },
    {
      "cell_type": "code",
      "source": [
        "def build_SR_GAN(input_shape):\n",
        "\n",
        "    # Build the discriminator\n",
        "    discriminator = build_discriminator(input_shape)\n",
        "\n",
        "    # Build the generator\n",
        "    generator = build_generator(input_shape)\n",
        "\n",
        "    # Build the SRGAN model by stacking the generator and discriminator\n",
        "    sr_gan = Sequential()\n",
        "    sr_gan.add(generator)\n",
        "    sr_gan.add(discriminator)\n",
        "\n",
        "    return sr_gan"
      ],
      "metadata": {
        "id": "n4v2tOZVN91L"
      },
      "execution_count": null,
      "outputs": []
    },
    {
      "cell_type": "code",
      "source": [
        "from keras.preprocessing.image import ImageDataGenerator\n",
        "\n",
        "# set up image data generators\n",
        "train_datagen = ImageDataGenerator(rescale=1./255)\n",
        "test_datagen = ImageDataGenerator(rescale=1./255)\n",
        "\n",
        "# set up train and test generators\n",
        "train_generator = train_datagen.flow_from_directory(\n",
        "        '/content/drive/MyDrive/4090_AI_Biomedical/OCT_dataset/datasets/Data_Small/train_us',\n",
        "        target_size=(32, 32),\n",
        "        batch_size=32,\n",
        "        class_mode='binary')\n",
        "\n",
        "test_generator = test_datagen.flow_from_directory(\n",
        "        '/content/drive/MyDrive/4090_AI_Biomedical/OCT_dataset/datasets/Data_Small/test_us',\n",
        "        target_size=(32, 32),\n",
        "        batch_size=32,\n",
        "        class_mode='binary')\n",
        "\n",
        "test_generator_128 = test_datagen.flow_from_directory(\n",
        "        '/content/drive/MyDrive/4090_AI_Biomedical/OCT_dataset/datasets/Data_Small/test_us',\n",
        "        target_size=(128, 128),\n",
        "        batch_size=32,\n",
        "        class_mode='binary')\n",
        "\n",
        "train_generator_128 = test_datagen.flow_from_directory(\n",
        "        '/content/drive/MyDrive/4090_AI_Biomedical/OCT_dataset/datasets/Data_Small/train_us',\n",
        "        target_size=(128, 128),\n",
        "        batch_size=32,\n",
        "        class_mode='binary')"
      ],
      "metadata": {
        "id": "JdoLon53A6rh",
        "colab": {
          "base_uri": "https://localhost:8080/"
        },
        "outputId": "0797bb86-537c-42ff-89bf-0706daf49b2a"
      },
      "execution_count": 19,
      "outputs": [
        {
          "output_type": "stream",
          "name": "stdout",
          "text": [
            "Found 2534 images belonging to 2 classes.\n",
            "Found 514 images belonging to 2 classes.\n",
            "Found 514 images belonging to 2 classes.\n",
            "Found 2534 images belonging to 2 classes.\n"
          ]
        }
      ]
    },
    {
      "cell_type": "code",
      "source": [
        "train_generator2 = train_datagen.flow_from_directory(\n",
        "    '/content/drive/MyDrive/4090_AI_Biomedical/OCT_dataset/datasets/Data_Small/train_us',\n",
        "    target_size=(128, 128),\n",
        "    batch_size=32,\n",
        "    class_mode=None\n",
        ")"
      ],
      "metadata": {
        "colab": {
          "base_uri": "https://localhost:8080/"
        },
        "id": "TMlYrpyQk4D8",
        "outputId": "f8a3b115-45e8-414b-b950-9504522c7e99"
      },
      "execution_count": 20,
      "outputs": [
        {
          "output_type": "stream",
          "name": "stdout",
          "text": [
            "Found 2534 images belonging to 2 classes.\n"
          ]
        }
      ]
    },
    {
      "cell_type": "markdown",
      "source": [
        "## Loading up the 128x128 Images"
      ],
      "metadata": {
        "id": "hXN2avXhljxF"
      }
    },
    {
      "cell_type": "code",
      "source": [
        "X_preview = train_generator2.next()\n",
        "\n",
        "for k in range(1,7):\n",
        "    sample_img = X_preview[k,:,:,:]\n",
        "    plt.subplot(2, 3, k)\n",
        "    plt.imshow(sample_img)\n",
        "plt.suptitle('Sample Data Augmentation', fontsize = 16)    \n",
        "plt.show()\n",
        "\n",
        "print('sample img, max value: ',np.max(sample_img))\n",
        "print('sample img, min value: ',np.min(sample_img))"
      ],
      "metadata": {
        "colab": {
          "base_uri": "https://localhost:8080/",
          "height": 329
        },
        "id": "OOkapP4PkbHQ",
        "outputId": "b6c469c1-38ee-4cb2-dddc-d0243757eb31"
      },
      "execution_count": 21,
      "outputs": [
        {
          "output_type": "display_data",
          "data": {
            "text/plain": [
              "<Figure size 432x288 with 6 Axes>"
            ],
            "image/png": "[encoded data removed]"
          },
          "metadata": {
            "needs_background": "light"
          }
        },
        {
          "output_type": "stream",
          "name": "stdout",
          "text": [
            "sample img, max value:  0.9294118\n",
            "sample img, min value:  0.0\n"
          ]
        }
      ]
    },
    {
      "cell_type": "markdown",
      "source": [
        "### Trying to train the SRGAN model"
      ],
      "metadata": {
        "id": "QLl13kKzlzUT"
      }
    },
    {
      "cell_type": "code",
      "source": [
        "import numpy as np\n",
        "import os\n",
        "import matplotlib.pyplot as plt\n",
        "from skimage.color import rgb2gray\n",
        "\n",
        "def save_images(epoch, logs):\n",
        "    # Generate a batch of images using the generator model\n",
        "    batch_size = 32\n",
        "    noise = np.random.normal(0, 1, (batch_size, 32, 32, 3))\n",
        "    generated_images = generator.predict(noise)\n",
        "    generated_images = (generated_images + 1) / 2\n",
        "    \n",
        "    # Create the folder to save the generated images if it doesn't exist\n",
        "    if not os.path.exists('generated_images_gray'):\n",
        "        os.makedirs('generated_images_gray')\n",
        "    \n",
        "    # Save the images\n",
        "    for i in range(batch_size):\n",
        "        grayscale_image = rgb2gray(generated_images[i])\n",
        "        plt.imsave(f\"generated_images_gray/{epoch}_{i}.png\", grayscale_image, cmap='gray')\n",
        "    # for i in range(batch_size):\n",
        "    #     plt.imsave(f\"generated_images/{epoch}_{i}.png\", generated_images[i])\n",
        "\n",
        "from keras.callbacks import LambdaCallback\n",
        "\n",
        "# Define the save_images callback\n",
        "save_images_callback = LambdaCallback(on_epoch_end=save_images)"
      ],
      "metadata": {
        "id": "FhKSTPoKOMHi"
      },
      "execution_count": 22,
      "outputs": []
    },
    {
      "cell_type": "code",
      "source": [
        "generator = build_generator((32, 32, 3))"
      ],
      "metadata": {
        "id": "GwP-xCi4VLwR"
      },
      "execution_count": 23,
      "outputs": []
    },
    {
      "cell_type": "code",
      "source": [
        "srgan = build_SR_GAN((32, 32, 3))\n",
        "srgan.compile(optimizer='adam', loss='mse')\n",
        "srgan.fit(train_generator, epochs=100, callbacks=[save_images_callback])"
      ],
      "metadata": {
        "colab": {
          "base_uri": "https://localhost:8080/"
        },
        "id": "fz3PccLTLjVR",
        "outputId": "54267280-f6dd-471d-d0b9-6bc8750bcf2d"
      },
      "execution_count": 24,
      "outputs": [
        {
          "output_type": "stream",
          "name": "stdout",
          "text": [
            "Epoch 1/100\n",
            "1/1 [==============================] - 1s 627ms/step\n",
            "80/80 [==============================] - 38s 114ms/step - loss: 0.2690\n",
            "Epoch 2/100\n",
            "1/1 [==============================] - 0s 27ms/step\n",
            "80/80 [==============================] - 6s 78ms/step - loss: 0.2481\n",
            "Epoch 3/100\n",
            "1/1 [==============================] - 0s 22ms/step\n",
            "80/80 [==============================] - 7s 90ms/step - loss: 0.2468\n",
            "Epoch 4/100\n",
            "1/1 [==============================] - 0s 21ms/step\n",
            "80/80 [==============================] - 6s 73ms/step - loss: 0.2452\n",
            "Epoch 5/100\n",
            "1/1 [==============================] - 0s 35ms/step\n",
            "80/80 [==============================] - 7s 86ms/step - loss: 0.2440\n",
            "Epoch 6/100\n",
            "1/1 [==============================] - 0s 22ms/step\n",
            "80/80 [==============================] - 6s 74ms/step - loss: 0.2430\n",
            "Epoch 7/100\n",
            "1/1 [==============================] - 0s 34ms/step\n",
            "80/80 [==============================] - 6s 80ms/step - loss: 0.2442\n",
            "Epoch 8/100\n",
            "1/1 [==============================] - 0s 27ms/step\n",
            "80/80 [==============================] - 6s 74ms/step - loss: 0.2423\n",
            "Epoch 9/100\n",
            "1/1 [==============================] - 0s 22ms/step\n",
            "80/80 [==============================] - 7s 92ms/step - loss: 0.2422\n",
            "Epoch 10/100\n",
            "1/1 [==============================] - 0s 23ms/step\n",
            "80/80 [==============================] - 6s 76ms/step - loss: 0.2415\n",
            "Epoch 11/100\n",
            "1/1 [==============================] - 0s 21ms/step\n",
            "80/80 [==============================] - 7s 90ms/step - loss: 0.2422\n",
            "Epoch 12/100\n",
            "1/1 [==============================] - 0s 23ms/step\n",
            "80/80 [==============================] - 6s 73ms/step - loss: 0.2422\n",
            "Epoch 13/100\n",
            "1/1 [==============================] - 0s 22ms/step\n",
            "80/80 [==============================] - 7s 89ms/step - loss: 0.2413\n",
            "Epoch 14/100\n",
            "1/1 [==============================] - 0s 21ms/step\n",
            "80/80 [==============================] - 6s 75ms/step - loss: 0.2414\n",
            "Epoch 15/100\n",
            "1/1 [==============================] - 0s 21ms/step\n",
            "80/80 [==============================] - 7s 88ms/step - loss: 0.2412\n",
            "Epoch 16/100\n",
            "1/1 [==============================] - 0s 23ms/step\n",
            "80/80 [==============================] - 6s 73ms/step - loss: 0.2417\n",
            "Epoch 17/100\n",
            "1/1 [==============================] - 0s 34ms/step\n",
            "80/80 [==============================] - 7s 87ms/step - loss: 0.2413\n",
            "Epoch 18/100\n",
            "1/1 [==============================] - 0s 22ms/step\n",
            "80/80 [==============================] - 6s 75ms/step - loss: 0.2412\n",
            "Epoch 19/100\n",
            "1/1 [==============================] - 0s 35ms/step\n",
            "80/80 [==============================] - 7s 90ms/step - loss: 0.2412\n",
            "Epoch 20/100\n",
            "1/1 [==============================] - 0s 22ms/step\n",
            "80/80 [==============================] - 6s 77ms/step - loss: 0.2418\n",
            "Epoch 21/100\n",
            "1/1 [==============================] - 0s 33ms/step\n",
            "80/80 [==============================] - 7s 87ms/step - loss: 0.2412\n",
            "Epoch 22/100\n",
            "1/1 [==============================] - 0s 36ms/step\n",
            "80/80 [==============================] - 7s 85ms/step - loss: 0.2411\n",
            "Epoch 23/100\n",
            "1/1 [==============================] - 0s 21ms/step\n",
            "80/80 [==============================] - 8s 99ms/step - loss: 0.2412\n",
            "Epoch 24/100\n",
            "1/1 [==============================] - 0s 35ms/step\n",
            "80/80 [==============================] - 6s 79ms/step - loss: 0.2417\n",
            "Epoch 25/100\n",
            "1/1 [==============================] - 0s 23ms/step\n",
            "80/80 [==============================] - 6s 75ms/step - loss: 0.2414\n",
            "Epoch 26/100\n",
            "1/1 [==============================] - 0s 22ms/step\n",
            "80/80 [==============================] - 7s 90ms/step - loss: 0.2425\n",
            "Epoch 27/100\n",
            "1/1 [==============================] - 0s 23ms/step\n",
            "80/80 [==============================] - 6s 75ms/step - loss: 0.2423\n",
            "Epoch 28/100\n",
            "1/1 [==============================] - 0s 39ms/step\n",
            "80/80 [==============================] - 8s 102ms/step - loss: 0.2416\n",
            "Epoch 29/100\n",
            "1/1 [==============================] - 0s 22ms/step\n",
            "80/80 [==============================] - 7s 88ms/step - loss: 0.2411\n",
            "Epoch 30/100\n",
            "1/1 [==============================] - 0s 24ms/step\n",
            "80/80 [==============================] - 7s 91ms/step - loss: 0.2415\n",
            "Epoch 31/100\n",
            "1/1 [==============================] - 0s 23ms/step\n",
            "80/80 [==============================] - 6s 73ms/step - loss: 0.2412\n",
            "Epoch 32/100\n",
            "1/1 [==============================] - 0s 21ms/step\n",
            "80/80 [==============================] - 7s 88ms/step - loss: 0.2413\n",
            "Epoch 33/100\n",
            "1/1 [==============================] - 0s 35ms/step\n",
            "80/80 [==============================] - 6s 74ms/step - loss: 0.2414\n",
            "Epoch 34/100\n",
            "1/1 [==============================] - 0s 22ms/step\n",
            "80/80 [==============================] - 7s 90ms/step - loss: 0.2411\n",
            "Epoch 35/100\n",
            "1/1 [==============================] - 0s 21ms/step\n",
            "80/80 [==============================] - 6s 75ms/step - loss: 0.2410\n",
            "Epoch 36/100\n",
            "1/1 [==============================] - 0s 21ms/step\n",
            "80/80 [==============================] - 47s 589ms/step - loss: 0.2410\n",
            "Epoch 37/100\n",
            "1/1 [==============================] - 0s 36ms/step\n",
            "80/80 [==============================] - 6s 78ms/step - loss: 0.2411\n",
            "Epoch 38/100\n",
            "1/1 [==============================] - 0s 22ms/step\n",
            "80/80 [==============================] - 6s 75ms/step - loss: 0.2420\n",
            "Epoch 39/100\n",
            "1/1 [==============================] - 0s 21ms/step\n",
            "80/80 [==============================] - 7s 89ms/step - loss: 0.2417\n",
            "Epoch 40/100\n",
            "1/1 [==============================] - 0s 21ms/step\n",
            "80/80 [==============================] - 6s 72ms/step - loss: 0.2424\n",
            "Epoch 41/100\n",
            "1/1 [==============================] - 0s 22ms/step\n",
            "80/80 [==============================] - 31s 395ms/step - loss: 0.2426\n",
            "Epoch 42/100\n",
            "1/1 [==============================] - 0s 26ms/step\n",
            "80/80 [==============================] - 7s 86ms/step - loss: 0.2420\n",
            "Epoch 43/100\n",
            "1/1 [==============================] - 0s 25ms/step\n",
            "80/80 [==============================] - 6s 73ms/step - loss: 0.2416\n",
            "Epoch 44/100\n",
            "1/1 [==============================] - 0s 21ms/step\n",
            "80/80 [==============================] - 7s 88ms/step - loss: 0.2416\n",
            "Epoch 45/100\n",
            "1/1 [==============================] - 0s 23ms/step\n",
            "80/80 [==============================] - 6s 74ms/step - loss: 0.2419\n",
            "Epoch 46/100\n",
            "1/1 [==============================] - 0s 21ms/step\n",
            "80/80 [==============================] - 7s 91ms/step - loss: 0.2415\n",
            "Epoch 47/100\n",
            "1/1 [==============================] - 0s 24ms/step\n",
            "80/80 [==============================] - 6s 75ms/step - loss: 0.2416\n",
            "Epoch 48/100\n",
            "1/1 [==============================] - 0s 21ms/step\n",
            "80/80 [==============================] - 8s 94ms/step - loss: 0.2413\n",
            "Epoch 49/100\n",
            "1/1 [==============================] - 0s 24ms/step\n",
            "80/80 [==============================] - 6s 75ms/step - loss: 0.2411\n",
            "Epoch 50/100\n",
            "1/1 [==============================] - 0s 27ms/step\n",
            "80/80 [==============================] - 7s 93ms/step - loss: 0.2413\n",
            "Epoch 51/100\n",
            "1/1 [==============================] - 0s 23ms/step\n",
            "80/80 [==============================] - 6s 75ms/step - loss: 0.2411\n",
            "Epoch 52/100\n",
            "1/1 [==============================] - 0s 24ms/step\n",
            "80/80 [==============================] - 7s 89ms/step - loss: 0.2414\n",
            "Epoch 53/100\n",
            "1/1 [==============================] - 0s 22ms/step\n",
            "80/80 [==============================] - 6s 75ms/step - loss: 0.2410\n",
            "Epoch 54/100\n",
            "1/1 [==============================] - 0s 24ms/step\n",
            "80/80 [==============================] - 7s 89ms/step - loss: 0.2413\n",
            "Epoch 55/100\n",
            "1/1 [==============================] - 0s 28ms/step\n",
            "80/80 [==============================] - 7s 90ms/step - loss: 0.2415\n",
            "Epoch 56/100\n",
            "1/1 [==============================] - 0s 24ms/step\n",
            "80/80 [==============================] - 7s 90ms/step - loss: 0.2412\n",
            "Epoch 57/100\n",
            "1/1 [==============================] - 0s 22ms/step\n",
            "80/80 [==============================] - 6s 76ms/step - loss: 0.2412\n",
            "Epoch 58/100\n",
            "1/1 [==============================] - 0s 27ms/step\n",
            "80/80 [==============================] - 7s 89ms/step - loss: 0.2410\n",
            "Epoch 59/100\n",
            "1/1 [==============================] - 0s 26ms/step\n",
            "80/80 [==============================] - 6s 76ms/step - loss: 0.2411\n",
            "Epoch 60/100\n",
            "1/1 [==============================] - 0s 27ms/step\n",
            "80/80 [==============================] - 8s 95ms/step - loss: 0.2413\n",
            "Epoch 61/100\n",
            "1/1 [==============================] - 0s 28ms/step\n",
            "80/80 [==============================] - 6s 75ms/step - loss: 0.2410\n",
            "Epoch 62/100\n",
            "1/1 [==============================] - 0s 43ms/step\n",
            "80/80 [==============================] - 7s 89ms/step - loss: 0.2411\n",
            "Epoch 63/100\n",
            "1/1 [==============================] - 0s 23ms/step\n",
            "80/80 [==============================] - 6s 73ms/step - loss: 0.2413\n",
            "Epoch 64/100\n",
            "1/1 [==============================] - 0s 34ms/step\n",
            "80/80 [==============================] - 7s 83ms/step - loss: 0.2413\n",
            "Epoch 65/100\n",
            "1/1 [==============================] - 0s 23ms/step\n",
            "80/80 [==============================] - 6s 79ms/step - loss: 0.2415\n",
            "Epoch 66/100\n",
            "1/1 [==============================] - 0s 34ms/step\n",
            "80/80 [==============================] - 7s 82ms/step - loss: 0.2417\n",
            "Epoch 67/100\n",
            "1/1 [==============================] - 0s 24ms/step\n",
            "80/80 [==============================] - 7s 81ms/step - loss: 0.2410\n",
            "Epoch 68/100\n",
            "1/1 [==============================] - 0s 34ms/step\n",
            "80/80 [==============================] - 6s 78ms/step - loss: 0.2415\n",
            "Epoch 69/100\n",
            "1/1 [==============================] - 0s 24ms/step\n",
            "80/80 [==============================] - 6s 74ms/step - loss: 0.2413\n",
            "Epoch 70/100\n",
            "1/1 [==============================] - 0s 23ms/step\n",
            "80/80 [==============================] - 6s 74ms/step - loss: 0.2410\n",
            "Epoch 71/100\n",
            "1/1 [==============================] - 0s 38ms/step\n",
            "80/80 [==============================] - 7s 88ms/step - loss: 0.2413\n",
            "Epoch 72/100\n",
            "1/1 [==============================] - 0s 26ms/step\n",
            "80/80 [==============================] - 6s 76ms/step - loss: 0.2415\n",
            "Epoch 73/100\n",
            "1/1 [==============================] - 0s 36ms/step\n",
            "80/80 [==============================] - 7s 85ms/step - loss: 0.2413\n",
            "Epoch 74/100\n",
            "1/1 [==============================] - 0s 22ms/step\n",
            "80/80 [==============================] - 6s 76ms/step - loss: 0.2412\n",
            "Epoch 75/100\n",
            "1/1 [==============================] - 0s 22ms/step\n",
            "80/80 [==============================] - 7s 90ms/step - loss: 0.2411\n",
            "Epoch 76/100\n",
            "1/1 [==============================] - 0s 33ms/step\n",
            "80/80 [==============================] - 7s 86ms/step - loss: 0.2415\n",
            "Epoch 77/100\n",
            "1/1 [==============================] - 0s 23ms/step\n",
            "80/80 [==============================] - 6s 76ms/step - loss: 0.2415\n",
            "Epoch 78/100\n",
            "1/1 [==============================] - 0s 41ms/step\n",
            "80/80 [==============================] - 7s 93ms/step - loss: 0.2411\n",
            "Epoch 79/100\n",
            "1/1 [==============================] - 0s 24ms/step\n",
            "80/80 [==============================] - 6s 74ms/step - loss: 0.2410\n",
            "Epoch 80/100\n",
            "1/1 [==============================] - 0s 23ms/step\n",
            "80/80 [==============================] - 7s 89ms/step - loss: 0.2412\n",
            "Epoch 81/100\n",
            "1/1 [==============================] - 0s 24ms/step\n",
            "80/80 [==============================] - 6s 73ms/step - loss: 0.2411\n",
            "Epoch 82/100\n",
            "1/1 [==============================] - 0s 29ms/step\n",
            "80/80 [==============================] - 7s 91ms/step - loss: 0.2410\n",
            "Epoch 83/100\n",
            "1/1 [==============================] - 0s 24ms/step\n",
            "80/80 [==============================] - 6s 75ms/step - loss: 0.2410\n",
            "Epoch 84/100\n",
            "1/1 [==============================] - 0s 22ms/step\n",
            "80/80 [==============================] - 7s 92ms/step - loss: 0.2409\n",
            "Epoch 85/100\n",
            "1/1 [==============================] - 0s 23ms/step\n",
            "80/80 [==============================] - 6s 73ms/step - loss: 0.2411\n",
            "Epoch 86/100\n",
            "1/1 [==============================] - 0s 24ms/step\n",
            "80/80 [==============================] - 7s 89ms/step - loss: 0.2417\n",
            "Epoch 87/100\n",
            "1/1 [==============================] - 0s 21ms/step\n",
            "80/80 [==============================] - 6s 75ms/step - loss: 0.2411\n",
            "Epoch 88/100\n",
            "1/1 [==============================] - 0s 23ms/step\n",
            "80/80 [==============================] - 7s 90ms/step - loss: 0.2414\n",
            "Epoch 89/100\n",
            "1/1 [==============================] - 0s 21ms/step\n",
            "80/80 [==============================] - 6s 74ms/step - loss: 0.2411\n",
            "Epoch 90/100\n",
            "1/1 [==============================] - 0s 23ms/step\n",
            "80/80 [==============================] - 7s 92ms/step - loss: 0.2410\n",
            "Epoch 91/100\n",
            "1/1 [==============================] - 0s 25ms/step\n",
            "80/80 [==============================] - 6s 76ms/step - loss: 0.2410\n",
            "Epoch 92/100\n",
            "1/1 [==============================] - 0s 31ms/step\n",
            "80/80 [==============================] - 7s 91ms/step - loss: 0.2410\n",
            "Epoch 93/100\n",
            "1/1 [==============================] - 0s 30ms/step\n",
            "80/80 [==============================] - 6s 76ms/step - loss: 0.2409\n",
            "Epoch 94/100\n",
            "1/1 [==============================] - 0s 22ms/step\n",
            "80/80 [==============================] - 7s 90ms/step - loss: 0.2410\n",
            "Epoch 95/100\n",
            "1/1 [==============================] - 0s 24ms/step\n",
            "80/80 [==============================] - 6s 77ms/step - loss: 0.2409\n",
            "Epoch 96/100\n",
            "1/1 [==============================] - 0s 22ms/step\n",
            "80/80 [==============================] - 7s 90ms/step - loss: 0.2411\n",
            "Epoch 97/100\n",
            "1/1 [==============================] - 0s 26ms/step\n",
            "80/80 [==============================] - 6s 74ms/step - loss: 0.2411\n",
            "Epoch 98/100\n",
            "1/1 [==============================] - 0s 35ms/step\n",
            "80/80 [==============================] - 9s 110ms/step - loss: 0.2411\n",
            "Epoch 99/100\n",
            "1/1 [==============================] - 0s 22ms/step\n",
            "80/80 [==============================] - 6s 79ms/step - loss: 0.2411\n",
            "Epoch 100/100\n",
            "1/1 [==============================] - 0s 35ms/step\n",
            "80/80 [==============================] - 7s 88ms/step - loss: 0.2415\n"
          ]
        },
        {
          "output_type": "execute_result",
          "data": {
            "text/plain": [
              "<keras.callbacks.History at 0x7f3f40084c70>"
            ]
          },
          "metadata": {},
          "execution_count": 24
        }
      ]
    }
  ]
}