{
  "nbformat": 4,
  "nbformat_minor": 0,
  "metadata": {
    "colab": {
      "provenance": []
    },
    "kernelspec": {
      "name": "python3",
      "display_name": "Python 3"
    },
    "language_info": {
      "name": "python"
    },
    "accelerator": "GPU",
    "gpuClass": "standard"
  },
  "cells": [
    {
      "cell_type": "code",
      "source": [
        "import numpy as np\n",
        "import cv2\n",
        "import os\n",
        "from keras.optimizers import Adam\n",
        "from keras.models import Model\n",
        "from keras.layers import Input\n",
        "from keras.losses import MeanSquaredError\n",
        "from keras.applications.vgg19 import VGG19\n",
        "from keras.models import Sequential\n",
        "from keras.layers import Conv2D, Conv2DTranspose, BatchNormalization, Activation, Dense, Add, Reshape, PReLU, UpSampling2D, Lambda, LeakyReLU, Flatten\n",
        "from keras.preprocessing.image import ImageDataGenerator"
      ],
      "metadata": {
        "id": "GBlAhOTrlerP"
      },
      "execution_count": 1,
      "outputs": []
    },
    {
      "cell_type": "code",
      "source": [
        "from google.colab import drive\n",
        "drive.mount('/content/drive')"
      ],
      "metadata": {
        "colab": {
          "base_uri": "https://localhost:8080/"
        },
        "id": "UVZaLCDJ-KAT",
        "outputId": "04097291-f7dc-40f6-809f-b09267f21a16"
      },
      "execution_count": 2,
      "outputs": [
        {
          "output_type": "stream",
          "name": "stdout",
          "text": [
            "Mounted at /content/drive\n"
          ]
        }
      ]
    },
    {
      "cell_type": "code",
      "source": [
        "import tensorflow as tf\n",
        "from tensorflow import keras\n",
        "from keras.callbacks import TensorBoard\n",
        "import glob\n",
        "import random\n",
        "from numpy import asarray\n",
        "from itertools import repeat\n",
        "import imageio\n",
        "from imageio import imread\n",
        "from PIL import Image\n",
        "from skimage.transform import resize as imresize\n",
        "import matplotlib.pyplot as plt\n",
        "import warnings\n",
        "warnings.filterwarnings(\"ignore\")\n",
        "\n",
        "print(\"Tensorflow version \" + tf.__version__)\n",
        "print(\"Keras version \" + tf.keras.__version__)"
      ],
      "metadata": {
        "colab": {
          "base_uri": "https://localhost:8080/"
        },
        "id": "cDUrpeyk-7FN",
        "outputId": "31fe54c1-e346-42e9-b294-1c18596e9795"
      },
      "execution_count": 3,
      "outputs": [
        {
          "output_type": "stream",
          "name": "stdout",
          "text": [
            "Tensorflow version 2.11.0\n",
            "Keras version 2.11.0\n"
          ]
        }
      ]
    },
    {
      "cell_type": "markdown",
      "source": [
        "## Resizing the images to 128x128 and 32x32 to feed into the SRGAN"
      ],
      "metadata": {
        "id": "0jw1lOezi99W"
      }
    },
    {
      "cell_type": "code",
      "source": [
        "from PIL import Image\n",
        "import os\n",
        "\n",
        "input_folder = '/content/drive/MyDrive/4090_AI_Biomedical/OCT_dataset/datasets/Data_Small/train/DME'\n",
        "output_folder = '/content/drive/MyDrive/4090_AI_Biomedical/OCT_dataset/datasets/Data_Small/train_us/DME'\n",
        "\n",
        "for filename in os.listdir(input_folder):\n",
        "    input_path = os.path.join(input_folder, filename)\n",
        "    output_path = os.path.join(output_folder, filename)\n",
        "    with Image.open(input_path) as img:\n",
        "        img = img.resize((128, 128), resample=Image.LANCZOS)\n",
        "        img.save(output_path)\n",
        "\n",
        "from PIL import Image\n",
        "import os\n",
        "\n",
        "input_folder = '/content/drive/MyDrive/4090_AI_Biomedical/OCT_dataset/datasets/Data_Small/train/DRUSEN'\n",
        "output_folder = '/content/drive/MyDrive/4090_AI_Biomedical/OCT_dataset/datasets/Data_Small/train_us/DRUSEN'\n",
        "\n",
        "for filename in os.listdir(input_folder):\n",
        "    input_path = os.path.join(input_folder, filename)\n",
        "    output_path = os.path.join(output_folder, filename)\n",
        "    with Image.open(input_path) as img:\n",
        "        img = img.resize((128, 128), resample=Image.LANCZOS)\n",
        "        img.save(output_path)"
      ],
      "metadata": {
        "id": "NzNABGiAiqoq"
      },
      "execution_count": null,
      "outputs": []
    },
    {
      "cell_type": "code",
      "source": [
        "from PIL import Image\n",
        "import os\n",
        "\n",
        "input_folder = '/content/drive/MyDrive/4090_AI_Biomedical/OCT_dataset/datasets/Data_Small/test/DME'\n",
        "output_folder = '/content/drive/MyDrive/4090_AI_Biomedical/OCT_dataset/datasets/Data_Small/test_us/DME'\n",
        "\n",
        "for filename in os.listdir(input_folder):\n",
        "    input_path = os.path.join(input_folder, filename)\n",
        "    output_path = os.path.join(output_folder, filename)\n",
        "    with Image.open(input_path) as img:\n",
        "        img = img.resize((128, 128), resample=Image.LANCZOS)\n",
        "        img.save(output_path)\n",
        "\n",
        "from PIL import Image\n",
        "import os\n",
        "\n",
        "input_folder = '/content/drive/MyDrive/4090_AI_Biomedical/OCT_dataset/datasets/Data_Small/test/DRUSEN'\n",
        "output_folder = '/content/drive/MyDrive/4090_AI_Biomedical/OCT_dataset/datasets/Data_Small/test_us/DRUSEN'\n",
        "\n",
        "for filename in os.listdir(input_folder):\n",
        "    input_path = os.path.join(input_folder, filename)\n",
        "    output_path = os.path.join(output_folder, filename)\n",
        "    with Image.open(input_path) as img:\n",
        "        img = img.resize((128, 128), resample=Image.LANCZOS)\n",
        "        img.save(output_path)"
      ],
      "metadata": {
        "id": "Xrt4FJUbiz39"
      },
      "execution_count": null,
      "outputs": []
    },
    {
      "cell_type": "code",
      "source": [
        "from PIL import Image\n",
        "import os\n",
        "\n",
        "input_folder = '/content/drive/MyDrive/4090_AI_Biomedical/OCT_dataset/datasets/Data_Small/train/DME'\n",
        "output_folder = '/content/drive/MyDrive/4090_AI_Biomedical/OCT_dataset/datasets/Data_Small/train_ds/DME'\n",
        "\n",
        "for filename in os.listdir(input_folder):\n",
        "    input_path = os.path.join(input_folder, filename)\n",
        "    output_path = os.path.join(output_folder, filename)\n",
        "    with Image.open(input_path) as img:\n",
        "        img = img.resize((32, 32), resample=Image.LANCZOS)\n",
        "        img.save(output_path)\n",
        "\n",
        "from PIL import Image\n",
        "import os\n",
        "\n",
        "input_folder = '/content/drive/MyDrive/4090_AI_Biomedical/OCT_dataset/datasets/Data_Small/train/DRUSEN'\n",
        "output_folder = '/content/drive/MyDrive/4090_AI_Biomedical/OCT_dataset/datasets/Data_Small/train_ds/DRUSEN'\n",
        "\n",
        "for filename in os.listdir(input_folder):\n",
        "    input_path = os.path.join(input_folder, filename)\n",
        "    output_path = os.path.join(output_folder, filename)\n",
        "    with Image.open(input_path) as img:\n",
        "        img = img.resize((32, 32), resample=Image.LANCZOS)\n",
        "        img.save(output_path)"
      ],
      "metadata": {
        "id": "Qr5i8qc5i1M-"
      },
      "execution_count": null,
      "outputs": []
    },
    {
      "cell_type": "code",
      "source": [
        "from PIL import Image\n",
        "import os\n",
        "\n",
        "input_folder = '/content/drive/MyDrive/4090_AI_Biomedical/OCT_dataset/datasets/Data_Small/test/DME'\n",
        "output_folder = '/content/drive/MyDrive/4090_AI_Biomedical/OCT_dataset/datasets/Data_Small/test_ds/DME'\n",
        "\n",
        "for filename in os.listdir(input_folder):\n",
        "    input_path = os.path.join(input_folder, filename)\n",
        "    output_path = os.path.join(output_folder, filename)\n",
        "    with Image.open(input_path) as img:\n",
        "        img = img.resize((32, 32), resample=Image.LANCZOS)\n",
        "        img.save(output_path)\n",
        "\n",
        "from PIL import Image\n",
        "import os\n",
        "\n",
        "input_folder = '/content/drive/MyDrive/4090_AI_Biomedical/OCT_dataset/datasets/Data_Small/test/DRUSEN'\n",
        "output_folder = '/content/drive/MyDrive/4090_AI_Biomedical/OCT_dataset/datasets/Data_Small/test_ds/DRUSEN'\n",
        "\n",
        "for filename in os.listdir(input_folder):\n",
        "    input_path = os.path.join(input_folder, filename)\n",
        "    output_path = os.path.join(output_folder, filename)\n",
        "    with Image.open(input_path) as img:\n",
        "        img = img.resize((32, 32), resample=Image.LANCZOS)\n",
        "        img.save(output_path)"
      ],
      "metadata": {
        "id": "RXTfcgYKi796"
      },
      "execution_count": null,
      "outputs": []
    },
    {
      "cell_type": "code",
      "source": [
        "from keras.layers import Input, Dense, BatchNormalization, LeakyReLU, Conv2D, UpSampling2D, Add\n",
        "from keras.models import Model\n",
        "from keras.optimizers import Adam\n",
        "from keras.applications import VGG19\n",
        "from keras.applications.vgg19 import preprocess_input\n",
        "import keras.backend as K\n",
        "\n",
        "def build_generator(input_shape):\n",
        "    input_low_res = Input(shape=input_shape)\n",
        "    x = Conv2D(64, kernel_size=9, strides=1, padding='same')(input_low_res)\n",
        "    x = LeakyReLU(alpha=0.2)(x)\n",
        "\n",
        "    # Residual blocks\n",
        "    for i in range(16):\n",
        "        residual = x\n",
        "        x = Conv2D(64, kernel_size=3, strides=1, padding='same')(x)\n",
        "        x = BatchNormalization()(x)\n",
        "        x = LeakyReLU(alpha=0.2)(x)\n",
        "        x = Conv2D(64, kernel_size=3, strides=1, padding='same')(x)\n",
        "        x = BatchNormalization()(x)\n",
        "        x = Add()([x, residual])\n",
        "\n",
        "    x = Conv2D(64, kernel_size=3, strides=1, padding='same')(x)\n",
        "    x = BatchNormalization()(x)\n",
        "    x = UpSampling2D(size=2)(x)\n",
        "    x = LeakyReLU(alpha=0.2)(x)\n",
        "\n",
        "    x = Conv2D(256, kernel_size=3, strides=1, padding='same')(x)\n",
        "    x = UpSampling2D(size=2)(x)\n",
        "    x = LeakyReLU(alpha=0.2)(x)\n",
        "\n",
        "    # Output high resolution image\n",
        "    output_high_res = Conv2D(3, kernel_size=9, strides=1, padding='same', activation='tanh')(x)\n",
        "\n",
        "    return Model(input_low_res, output_high_res)"
      ],
      "metadata": {
        "id": "D0Jd80yNHdGp"
      },
      "execution_count": 58,
      "outputs": []
    },
    {
      "cell_type": "code",
      "source": [
        "def build_discriminator(input_shape):\n",
        "    input_high_res = Input(shape=input_shape)\n",
        "\n",
        "    # VGG19 model as a feature extractor\n",
        "    vgg19 = VGG19(weights='imagenet')\n",
        "    for layer in vgg19.layers:\n",
        "        layer.trainable = False\n",
        "    vgg19 = Model(inputs=vgg19.input, outputs=vgg19.get_layer('block5_conv4').output)\n",
        "\n",
        "    # Discriminator model\n",
        "    x = Conv2D(64, kernel_size=3, strides=1, padding='same')(input_high_res)\n",
        "    x = LeakyReLU(alpha=0.2)(x)\n",
        "\n",
        "    x = Conv2D(64, kernel_size=3, strides=2, padding='same')(x)\n",
        "    x = BatchNormalization()(x)\n",
        "    x = LeakyReLU(alpha=0.2)(x)\n",
        "\n",
        "    x = Conv2D(128, kernel_size=3, strides=1, padding='same')(x)\n",
        "    x = BatchNormalization()(x)\n",
        "    x = LeakyReLU(alpha=0.2)(x)\n",
        "\n",
        "    x = Conv2D(128, kernel_size=3, strides=2, padding='same')(x)\n",
        "    x = BatchNormalization()(x)\n",
        "    x = LeakyReLU(alpha=0.2)(x)\n",
        "\n",
        "    x = Conv2D(256, kernel_size=3, strides=1, padding='same')(x)\n",
        "    x = BatchNormalization()(x)\n",
        "    x = LeakyReLU(alpha=0.2)(x)\n",
        "\n",
        "    x = Conv2D(256, kernel_size=3, strides=2, padding='same')(x)\n",
        "    x = BatchNormalization()(x)\n",
        "    x = LeakyReLU(alpha=0.2)(x)\n",
        "\n",
        "    x = Conv2D(512, kernel_size=3, strides=1, padding='same')(x)\n",
        "    x = BatchNormalization()(x)\n",
        "    x = LeakyReLU(alpha=0.2)(x)\n",
        "\n",
        "    x = Conv2D(512, kernel_size=3, strides=2, padding='same')(x)\n",
        "    x = BatchNormalization()(x)\n",
        "    x = LeakyReLU(alpha=0.2)(x)\n",
        "\n",
        "    x = Dense(1024)(x)\n",
        "    x = LeakyReLU(alpha=0.2)(x)\n",
        "    x = Dense(1, activation='sigmoid')(x)\n",
        "\n",
        "    # Compile model\n",
        "    model = Model(input_high_res, x)\n",
        "    model.compile(loss='binary_crossentropy', optimizer=Adam(lr=0.0002, beta_1=0.5), metrics=['accuracy'])\n",
        "\n",
        "    return model"
      ],
      "metadata": {
        "id": "H3IYjb3uHdER"
      },
      "execution_count": 59,
      "outputs": []
    },
    {
      "cell_type": "code",
      "source": [
        "# def build_SR_GAN(input_shape):\n",
        "#     # Build and compile the discriminator\n",
        "#     discriminator = build_discriminator(input_shape)\n",
        "#     discriminator.compile(loss='binary_crossentropy', optimizer=Adam(lr=0.0002, beta_1=0.5), metrics=['accuracy'])\n",
        "    \n",
        "#     # Build the generator\n",
        "#     generator = build_generator()\n",
        "    \n",
        "#     # Build the SRGAN model by stacking the generator and discriminator\n",
        "#     input_low_res = Input(shape=input_shape)\n",
        "#     generated_high_res = generator(input_low_res)\n",
        "#     validity = discriminator(generated_high_res)\n",
        "    \n",
        "#     # Freeze the discriminator during the generator training\n",
        "#     discriminator.trainable = False\n",
        "    \n",
        "#     # Define the combined model for training the generator\n",
        "#     # The generator's loss function includes the adversarial loss and the perceptual loss\n",
        "#     srgan = Model(input_low_res, [generated_high_res, validity])\n",
        "#     srgan.compile(loss=['mse', 'binary_crossentropy'], loss_weights=[1e-3, 1], optimizer=Adam(lr=0.0002, beta_1=0.5))\n",
        "    \n",
        "#     return srgan"
      ],
      "metadata": {
        "id": "QXWx0ZlvHc_t"
      },
      "execution_count": 43,
      "outputs": []
    },
    {
      "cell_type": "code",
      "source": [
        "def build_SR_GAN(input_shape):\n",
        "\n",
        "    # Build the discriminator\n",
        "    discriminator = build_discriminator(input_shape)\n",
        "\n",
        "    # Build the generator\n",
        "    generator = build_generator(input_shape)\n",
        "\n",
        "    # Build the SRGAN model by stacking the generator and discriminator\n",
        "    sr_gan = Sequential()\n",
        "    sr_gan.add(generator)\n",
        "    sr_gan.add(discriminator)\n",
        "\n",
        "    return sr_gan"
      ],
      "metadata": {
        "id": "n4v2tOZVN91L"
      },
      "execution_count": 60,
      "outputs": []
    },
    {
      "cell_type": "code",
      "source": [
        "# def build_SR_GAN(input_shape):\n",
        "#     # Build the generator\n",
        "#     generator = build_generator(input_shape)\n",
        "\n",
        "#     # Build the discriminator\n",
        "#     discriminator = build_discriminator()\n",
        "\n",
        "#     # Set discriminator weights to non-trainable\n",
        "#     discriminator.trainable = False\n",
        "\n",
        "#     # Build the SRGAN model by stacking the generator and discriminator\n",
        "#     sr_gan = Sequential()\n",
        "#     sr_gan.add(generator)\n",
        "#     sr_gan.add(discriminator)\n",
        "\n",
        "#     return sr_gan\n"
      ],
      "metadata": {
        "id": "3qIXkvrNZAUy"
      },
      "execution_count": 39,
      "outputs": []
    },
    {
      "cell_type": "code",
      "source": [
        "# Define a function to preprocess the low-resolution images\n",
        "def preprocess_LR(img):\n",
        "    img = img.resize((128, 128))\n",
        "    img = np.array(img)\n",
        "    img = img / 127.5 - 1.0\n",
        "    return img"
      ],
      "metadata": {
        "id": "CNU7WfQ-KWyu"
      },
      "execution_count": 61,
      "outputs": []
    },
    {
      "cell_type": "code",
      "source": [
        "# Define a function to preprocess the high-resolution images\n",
        "def preprocess_HR(img):\n",
        "    img = np.array(img)\n",
        "    img = img / 127.5 - 1.0\n",
        "    return img"
      ],
      "metadata": {
        "id": "oneRTOLiLZNq"
      },
      "execution_count": 62,
      "outputs": []
    },
    {
      "cell_type": "code",
      "source": [
        "# # Load the low-resolution images from the train and test folders\n",
        "# train_data_gen = ImageDataGenerator(preprocessing_function=preprocess_LR)\n",
        "# train_generator = train_data_gen.flow_from_directory('/content/drive/MyDrive/4090_AI_Biomedical/OCT_dataset/datasets/Data_Small/train_downsampled', target_size=(32, 32), class_mode=None, batch_size=16)\n",
        "# test_data_gen = ImageDataGenerator(preprocessing_function=preprocess_LR)\n",
        "# test_generator = test_data_gen.flow_from_directory('/content/drive/MyDrive/4090_AI_Biomedical/OCT_dataset/datasets/Data_Small/test_downsampled', target_size=(32, 32), class_mode=None, batch_size=16)\n",
        "\n",
        "# # Load the high-resolution images from the train and test folders\n",
        "# train_data_gen_HR = ImageDataGenerator(preprocessing_function=preprocess_HR)\n",
        "# train_generator_HR = train_data_gen_HR.flow_from_directory('/content/drive/MyDrive/4090_AI_Biomedical/OCT_dataset/datasets/Data_Small/train', target_size=(128, 128), class_mode=None, batch_size=16)\n",
        "# test_data_gen_HR = ImageDataGenerator(preprocessing_function=preprocess_HR)\n",
        "# test_generator_HR = test_data_gen_HR.flow_from_directory('/content/drive/MyDrive/4090_AI_Biomedical/OCT_dataset/datasets/Data_Small/test', target_size=(128, 128), class_mode=None, batch_size=16)\n"
      ],
      "metadata": {
        "id": "Kq28LOFrKEMo"
      },
      "execution_count": null,
      "outputs": []
    },
    {
      "cell_type": "code",
      "source": [
        "# # Load the low-resolution images from the train and test folders\n",
        "# train_data_gen = ImageDataGenerator(preprocessing_function=preprocess_LR)\n",
        "# train_generator = train_data_gen.flow_from_directory('/content/drive/MyDrive/4090_AI_Biomedical/OCT_dataset/datasets/Data_Small/train_ds', target_size=(32, 32), class_mode=None, batch_size=16)\n",
        "# test_data_gen = ImageDataGenerator(preprocessing_function=preprocess_LR)\n",
        "# test_generator = test_data_gen.flow_from_directory('/content/drive/MyDrive/4090_AI_Biomedical/OCT_dataset/datasets/Data_Small/test_ds', target_size=(32, 32), class_mode=None, batch_size=16)\n",
        "\n",
        "# # Load the high-resolution images from the train and test folders\n",
        "# train_data_gen_HR = ImageDataGenerator(preprocessing_function=preprocess_HR)\n",
        "# train_generator_HR = train_data_gen_HR.flow_from_directory('/content/drive/MyDrive/4090_AI_Biomedical/OCT_dataset/datasets/Data_Small/train_us', target_size=(128, 128), class_mode=None, batch_size=16)\n",
        "# test_data_gen_HR = ImageDataGenerator(preprocessing_function=preprocess_HR)\n",
        "# test_generator_HR = test_data_gen_HR.flow_from_directory('/content/drive/MyDrive/4090_AI_Biomedical/OCT_dataset/datasets/Data_Small/test_us', target_size=(128, 128), class_mode=None, batch_size=16)\n"
      ],
      "metadata": {
        "colab": {
          "base_uri": "https://localhost:8080/"
        },
        "id": "qdEZ0ifzgjM-",
        "outputId": "46de2e59-3f26-462d-d419-cbaa413ba6f2"
      },
      "execution_count": 63,
      "outputs": [
        {
          "output_type": "stream",
          "name": "stdout",
          "text": [
            "Found 2534 images belonging to 2 classes.\n",
            "Found 514 images belonging to 2 classes.\n",
            "Found 2534 images belonging to 2 classes.\n",
            "Found 514 images belonging to 2 classes.\n"
          ]
        }
      ]
    },
    {
      "cell_type": "code",
      "source": [
        "# train_generator = ImageDataGenerator(rescale=1./255).flow_from_directory(\n",
        "#         '/content/drive/MyDrive/4090_AI_Biomedical/OCT_dataset/datasets/Data_Small/train_downsampled',\n",
        "#         target_size=(32, 32),\n",
        "#         batch_size=32,\n",
        "#         class_mode=None)\n",
        "\n",
        "# train_generator_HR = ImageDataGenerator(rescale=1./255).flow_from_directory(\n",
        "#         '/content/drive/MyDrive/4090_AI_Biomedical/OCT_dataset/datasets/Data_Small/train128',\n",
        "#         target_size=(128, 128),\n",
        "#         batch_size=32,\n",
        "#         class_mode=None)\n",
        "\n",
        "# test_generator = ImageDataGenerator(rescale=1./255).flow_from_directory(\n",
        "#         '/content/drive/MyDrive/4090_AI_Biomedical/OCT_dataset/datasets/Data_Small/test_downsampled',\n",
        "#         target_size=(32, 32),\n",
        "#         batch_size=32,\n",
        "#         class_mode=None)\n",
        "\n",
        "# test_generator_HR = ImageDataGenerator(rescale=1./255).flow_from_directory(\n",
        "#         '/content/drive/MyDrive/4090_AI_Biomedical/OCT_dataset/datasets/Data_Small/test128',\n",
        "#         target_size=(128, 128),\n",
        "#         batch_size=32,\n",
        "#         class_mode=None)"
      ],
      "metadata": {
        "id": "Xf8AOr8LRYed"
      },
      "execution_count": null,
      "outputs": []
    },
    {
      "cell_type": "code",
      "source": [
        "# srgan = build_SR_GAN((32, 32, 3))\n",
        "# srgan.compile(optimizer='adam', loss='mse')\n",
        "# srgan.fit(train_generator, epochs=50, validation_data=test_generator)"
      ],
      "metadata": {
        "id": "8rfhG9XcRj04"
      },
      "execution_count": null,
      "outputs": []
    },
    {
      "cell_type": "code",
      "source": [
        "train_datagen = ImageDataGenerator(\n",
        "    rescale=1./255,\n",
        "    horizontal_flip=True,\n",
        ")\n",
        "\n",
        "train_generator = train_datagen.flow_from_directory(\n",
        "    '/content/drive/MyDrive/4090_AI_Biomedical/OCT_dataset/datasets/Data_Small/train_ds',\n",
        "    target_size=(32, 32),\n",
        "    batch_size=32,\n",
        "    class_mode=None\n",
        ")\n",
        "\n",
        "def generate_images(generator):\n",
        "    for lr_batch, hr_batch in generator:\n",
        "        yield lr_batch, hr_batch\n",
        "\n",
        "train_generator_HR = generate_images(ImageDataGenerator(rescale=1./255).flow_from_directory(\n",
        "    '/content/drive/MyDrive/4090_AI_Biomedical/OCT_dataset/datasets/Data_Small/train_us',\n",
        "    target_size=(128, 128),\n",
        "    batch_size=32,\n",
        "    class_mode=None\n",
        "))\n",
        "\n",
        "test_datagen = ImageDataGenerator(rescale=1./255)\n",
        "\n",
        "test_generator = test_datagen.flow_from_directory(\n",
        "    '/content/drive/MyDrive/4090_AI_Biomedical/OCT_dataset/datasets/Data_Small/test_ds',\n",
        "    target_size=(32, 32),\n",
        "    batch_size=32,\n",
        "    class_mode=None\n",
        ")\n",
        "\n",
        "test_generator_HR = generate_images(ImageDataGenerator(rescale=1./255).flow_from_directory(\n",
        "    '/content/drive/MyDrive/4090_AI_Biomedical/OCT_dataset/datasets/Data_Small/test_us',\n",
        "    target_size=(128, 128),\n",
        "    batch_size=32,\n",
        "    class_mode=None\n",
        "))\n"
      ],
      "metadata": {
        "colab": {
          "base_uri": "https://localhost:8080/"
        },
        "id": "7oUbNAd2WzxS",
        "outputId": "f5db50e2-7ca7-4466-a890-5cb72f24b7b8"
      },
      "execution_count": 64,
      "outputs": [
        {
          "output_type": "stream",
          "name": "stdout",
          "text": [
            "Found 2534 images belonging to 2 classes.\n",
            "Found 2534 images belonging to 2 classes.\n",
            "Found 514 images belonging to 2 classes.\n",
            "Found 514 images belonging to 2 classes.\n"
          ]
        }
      ]
    },
    {
      "cell_type": "markdown",
      "source": [
        "## Loading up the 32x32 Images"
      ],
      "metadata": {
        "id": "prV_ZEqQlRBC"
      }
    },
    {
      "cell_type": "code",
      "source": [
        "X_preview = train_generator.next()\n",
        "\n",
        "for k in range(1,7):\n",
        "    sample_img = X_preview[k,:,:,:]\n",
        "    plt.subplot(2, 3, k)\n",
        "    plt.imshow(sample_img)\n",
        "plt.suptitle('Sample Data Augmentation', fontsize = 16)    \n",
        "plt.show()\n",
        "\n",
        "print('sample img, max value: ',np.max(sample_img))\n",
        "print('sample img, min value: ',np.min(sample_img))"
      ],
      "metadata": {
        "colab": {
          "base_uri": "https://localhost:8080/",
          "height": 329
        },
        "id": "wGE8X66rkPQ8",
        "outputId": "eec3154d-3afb-4d5c-8cf0-f5d899ead17b"
      },
      "execution_count": 70,
      "outputs": [
        {
          "output_type": "display_data",
          "data": {
            "text/plain": [
              "<Figure size 432x288 with 6 Axes>"
            ],
            "image/png": "[encoded data removed]"
          },
          "metadata": {
            "needs_background": "light"
          }
        },
        {
          "output_type": "stream",
          "name": "stdout",
          "text": [
            "sample img, max value:  0.93725497\n",
            "sample img, min value:  0.0\n"
          ]
        }
      ]
    },
    {
      "cell_type": "code",
      "source": [
        "train_generator2 = train_datagen.flow_from_directory(\n",
        "    '/content/drive/MyDrive/4090_AI_Biomedical/OCT_dataset/datasets/Data_Small/train_us',\n",
        "    target_size=(128, 128),\n",
        "    batch_size=32,\n",
        "    class_mode=None\n",
        ")"
      ],
      "metadata": {
        "colab": {
          "base_uri": "https://localhost:8080/"
        },
        "id": "TMlYrpyQk4D8",
        "outputId": "58c11161-303e-4e85-80f0-fbe13e9e1c48"
      },
      "execution_count": 72,
      "outputs": [
        {
          "output_type": "stream",
          "name": "stdout",
          "text": [
            "Found 2534 images belonging to 2 classes.\n"
          ]
        }
      ]
    },
    {
      "cell_type": "markdown",
      "source": [
        "## Loading up the 128x128 Images"
      ],
      "metadata": {
        "id": "hXN2avXhljxF"
      }
    },
    {
      "cell_type": "code",
      "source": [
        "X_preview = train_generator2.next()\n",
        "\n",
        "for k in range(1,7):\n",
        "    sample_img = X_preview[k,:,:,:]\n",
        "    plt.subplot(2, 3, k)\n",
        "    plt.imshow(sample_img)\n",
        "plt.suptitle('Sample Data Augmentation', fontsize = 16)    \n",
        "plt.show()\n",
        "\n",
        "print('sample img, max value: ',np.max(sample_img))\n",
        "print('sample img, min value: ',np.min(sample_img))"
      ],
      "metadata": {
        "colab": {
          "base_uri": "https://localhost:8080/",
          "height": 329
        },
        "id": "OOkapP4PkbHQ",
        "outputId": "e3c6569d-1edd-427f-e11c-35c625e6e7b2"
      },
      "execution_count": 73,
      "outputs": [
        {
          "output_type": "display_data",
          "data": {
            "text/plain": [
              "<Figure size 432x288 with 6 Axes>"
            ],
            "image/png": "[encoded data removed]"
          },
          "metadata": {
            "needs_background": "light"
          }
        },
        {
          "output_type": "stream",
          "name": "stdout",
          "text": [
            "sample img, max value:  1.0\n",
            "sample img, min value:  0.0\n"
          ]
        }
      ]
    },
    {
      "cell_type": "markdown",
      "source": [
        "### Trying to train the SRGAN model"
      ],
      "metadata": {
        "id": "QLl13kKzlzUT"
      }
    },
    {
      "cell_type": "code",
      "source": [
        "srgan = build_SR_GAN((32, 32, 3))\n",
        "srgan.compile(optimizer='adam', loss='mse')\n",
        "srgan.fit(train_generator, epochs=50, validation_data=test_generator)"
      ],
      "metadata": {
        "colab": {
          "base_uri": "https://localhost:8080/",
          "height": 903
        },
        "id": "fz3PccLTLjVR",
        "outputId": "0b8fc28f-c344-4ca1-d858-07d4fabf3bcf"
      },
      "execution_count": 65,
      "outputs": [
        {
          "output_type": "stream",
          "name": "stderr",
          "text": [
            "WARNING:tensorflow:Model was constructed with shape (None, 32, 32, 3) for input KerasTensor(type_spec=TensorSpec(shape=(None, 32, 32, 3), dtype=tf.float32, name='input_57'), name='input_57', description=\"created by layer 'input_57'\"), but it was called on an input with incompatible shape (None, 128, 128, 3).\n"
          ]
        },
        {
          "output_type": "stream",
          "name": "stdout",
          "text": [
            "Epoch 1/50\n"
          ]
        },
        {
          "output_type": "error",
          "ename": "ValueError",
          "evalue": "ignored",
          "traceback": [
            "\u001b[0;31m---------------------------------------------------------------------------\u001b[0m",
            "\u001b[0;31mValueError\u001b[0m                                Traceback (most recent call last)",
            "\u001b[0;32m<ipython-input-65-5e043652ad1f>\u001b[0m in \u001b[0;36m<module>\u001b[0;34m\u001b[0m\n\u001b[1;32m      1\u001b[0m \u001b[0msrgan\u001b[0m \u001b[0;34m=\u001b[0m \u001b[0mbuild_SR_GAN\u001b[0m\u001b[0;34m(\u001b[0m\u001b[0;34m(\u001b[0m\u001b[0;36m32\u001b[0m\u001b[0;34m,\u001b[0m \u001b[0;36m32\u001b[0m\u001b[0;34m,\u001b[0m \u001b[0;36m3\u001b[0m\u001b[0;34m)\u001b[0m\u001b[0;34m)\u001b[0m\u001b[0;34m\u001b[0m\u001b[0;34m\u001b[0m\u001b[0m\n\u001b[1;32m      2\u001b[0m \u001b[0msrgan\u001b[0m\u001b[0;34m.\u001b[0m\u001b[0mcompile\u001b[0m\u001b[0;34m(\u001b[0m\u001b[0moptimizer\u001b[0m\u001b[0;34m=\u001b[0m\u001b[0;34m'adam'\u001b[0m\u001b[0;34m,\u001b[0m \u001b[0mloss\u001b[0m\u001b[0;34m=\u001b[0m\u001b[0;34m'mse'\u001b[0m\u001b[0;34m)\u001b[0m\u001b[0;34m\u001b[0m\u001b[0;34m\u001b[0m\u001b[0m\n\u001b[0;32m----> 3\u001b[0;31m \u001b[0msrgan\u001b[0m\u001b[0;34m.\u001b[0m\u001b[0mfit\u001b[0m\u001b[0;34m(\u001b[0m\u001b[0mtrain_generator\u001b[0m\u001b[0;34m,\u001b[0m \u001b[0mepochs\u001b[0m\u001b[0;34m=\u001b[0m\u001b[0;36m50\u001b[0m\u001b[0;34m,\u001b[0m \u001b[0mvalidation_data\u001b[0m\u001b[0;34m=\u001b[0m\u001b[0mtest_generator\u001b[0m\u001b[0;34m)\u001b[0m\u001b[0;34m\u001b[0m\u001b[0;34m\u001b[0m\u001b[0m\n\u001b[0m",
            "\u001b[0;32m/usr/local/lib/python3.9/dist-packages/keras/utils/traceback_utils.py\u001b[0m in \u001b[0;36merror_handler\u001b[0;34m(*args, **kwargs)\u001b[0m\n\u001b[1;32m     68\u001b[0m             \u001b[0;31m# To get the full stack trace, call:\u001b[0m\u001b[0;34m\u001b[0m\u001b[0;34m\u001b[0m\u001b[0m\n\u001b[1;32m     69\u001b[0m             \u001b[0;31m# `tf.debugging.disable_traceback_filtering()`\u001b[0m\u001b[0;34m\u001b[0m\u001b[0;34m\u001b[0m\u001b[0m\n\u001b[0;32m---> 70\u001b[0;31m             \u001b[0;32mraise\u001b[0m \u001b[0me\u001b[0m\u001b[0;34m.\u001b[0m\u001b[0mwith_traceback\u001b[0m\u001b[0;34m(\u001b[0m\u001b[0mfiltered_tb\u001b[0m\u001b[0;34m)\u001b[0m \u001b[0;32mfrom\u001b[0m \u001b[0;32mNone\u001b[0m\u001b[0;34m\u001b[0m\u001b[0;34m\u001b[0m\u001b[0m\n\u001b[0m\u001b[1;32m     71\u001b[0m         \u001b[0;32mfinally\u001b[0m\u001b[0;34m:\u001b[0m\u001b[0;34m\u001b[0m\u001b[0;34m\u001b[0m\u001b[0m\n\u001b[1;32m     72\u001b[0m             \u001b[0;32mdel\u001b[0m \u001b[0mfiltered_tb\u001b[0m\u001b[0;34m\u001b[0m\u001b[0;34m\u001b[0m\u001b[0m\n",
            "\u001b[0;32m/usr/local/lib/python3.9/dist-packages/keras/engine/training.py\u001b[0m in \u001b[0;36mtf__train_function\u001b[0;34m(iterator)\u001b[0m\n\u001b[1;32m     13\u001b[0m                 \u001b[0;32mtry\u001b[0m\u001b[0;34m:\u001b[0m\u001b[0;34m\u001b[0m\u001b[0;34m\u001b[0m\u001b[0m\n\u001b[1;32m     14\u001b[0m                     \u001b[0mdo_return\u001b[0m \u001b[0;34m=\u001b[0m \u001b[0;32mTrue\u001b[0m\u001b[0;34m\u001b[0m\u001b[0;34m\u001b[0m\u001b[0m\n\u001b[0;32m---> 15\u001b[0;31m                     \u001b[0mretval_\u001b[0m \u001b[0;34m=\u001b[0m \u001b[0mag__\u001b[0m\u001b[0;34m.\u001b[0m\u001b[0mconverted_call\u001b[0m\u001b[0;34m(\u001b[0m\u001b[0mag__\u001b[0m\u001b[0;34m.\u001b[0m\u001b[0mld\u001b[0m\u001b[0;34m(\u001b[0m\u001b[0mstep_function\u001b[0m\u001b[0;34m)\u001b[0m\u001b[0;34m,\u001b[0m \u001b[0;34m(\u001b[0m\u001b[0mag__\u001b[0m\u001b[0;34m.\u001b[0m\u001b[0mld\u001b[0m\u001b[0;34m(\u001b[0m\u001b[0mself\u001b[0m\u001b[0;34m)\u001b[0m\u001b[0;34m,\u001b[0m \u001b[0mag__\u001b[0m\u001b[0;34m.\u001b[0m\u001b[0mld\u001b[0m\u001b[0;34m(\u001b[0m\u001b[0miterator\u001b[0m\u001b[0;34m)\u001b[0m\u001b[0;34m)\u001b[0m\u001b[0;34m,\u001b[0m \u001b[0;32mNone\u001b[0m\u001b[0;34m,\u001b[0m \u001b[0mfscope\u001b[0m\u001b[0;34m)\u001b[0m\u001b[0;34m\u001b[0m\u001b[0;34m\u001b[0m\u001b[0m\n\u001b[0m\u001b[1;32m     16\u001b[0m                 \u001b[0;32mexcept\u001b[0m\u001b[0;34m:\u001b[0m\u001b[0;34m\u001b[0m\u001b[0;34m\u001b[0m\u001b[0m\n\u001b[1;32m     17\u001b[0m                     \u001b[0mdo_return\u001b[0m \u001b[0;34m=\u001b[0m \u001b[0;32mFalse\u001b[0m\u001b[0;34m\u001b[0m\u001b[0;34m\u001b[0m\u001b[0m\n",
            "\u001b[0;31mValueError\u001b[0m: in user code:\n\n    File \"/usr/local/lib/python3.9/dist-packages/keras/engine/training.py\", line 1249, in train_function  *\n        return step_function(self, iterator)\n    File \"/usr/local/lib/python3.9/dist-packages/keras/engine/training.py\", line 1233, in step_function  **\n        outputs = model.distribute_strategy.run(run_step, args=(data,))\n    File \"/usr/local/lib/python3.9/dist-packages/keras/engine/training.py\", line 1222, in run_step  **\n        outputs = model.train_step(data)\n    File \"/usr/local/lib/python3.9/dist-packages/keras/engine/training.py\", line 1023, in train_step\n        y_pred = self(x, training=True)\n    File \"/usr/local/lib/python3.9/dist-packages/keras/utils/traceback_utils.py\", line 70, in error_handler\n        raise e.with_traceback(filtered_tb) from None\n    File \"/usr/local/lib/python3.9/dist-packages/keras/engine/input_spec.py\", line 295, in assert_input_compatibility\n        raise ValueError(\n\n    ValueError: Exception encountered when calling layer 'sequential_17' (type Sequential).\n    \n    Input 0 of layer \"model_57\" is incompatible with the layer: expected shape=(None, 32, 32, 3), found shape=(None, 128, 128, 3)\n    \n    Call arguments received by layer 'sequential_17' (type Sequential):\n      • inputs=tf.Tensor(shape=(None, 32, 32, 3), dtype=float32)\n      • training=True\n      • mask=None\n"
          ]
        }
      ]
    },
    {
      "cell_type": "markdown",
      "source": [
        "# Can't figure out how to debug incompatiable shapes"
      ],
      "metadata": {
        "id": "YIR_ot7yl5Ew"
      }
    }
  ]
}